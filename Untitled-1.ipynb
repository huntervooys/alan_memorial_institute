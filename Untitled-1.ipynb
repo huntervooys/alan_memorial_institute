{
 "cells": [
  {
   "cell_type": "markdown",
   "metadata": {},
   "source": [
    "# Import Required Libraries\n",
    "Import the necessary libraries, including the ones required by the comparing_noun_phrases script."
   ]
  },
  {
   "cell_type": "code",
   "execution_count": 15,
   "metadata": {},
   "outputs": [
    {
     "name": "stdout",
     "output_type": "stream",
     "text": [
      "Processing documents/aptn_fournier_03.txt\n",
      "Processing documents/tribune_grewal_01.txt\n",
      "Processing documents/mm_01.txt\n",
      "Processing documents/aptn_fournier_02.txt\n",
      "Processing documents/gazette_tomesco.txt\n",
      "Processing documents/mm_03.txt\n",
      "Processing documents/city_madocjones.txt\n",
      "Processing documents/mm_02.txt\n",
      "Processing documents/gazette_dunlevy.txt\n",
      "Processing documents/aptn_fournier_01.txt\n",
      "Processing documents/gazette_magder.txt\n",
      "Processing documents/ctv_harold.txt\n",
      "Processing documents/gazette_petition.txt\n",
      "Processing documents/mm_06.txt\n",
      "Processing documents/mm_05.txt\n",
      "Processing documents/mm_04.txt\n",
      "Processing documents/ctv_lofaro.txt\n",
      "Processing documents/tribune_grewal.txt\n",
      "Processing documents/tribune_cason.txt\n",
      "Processing documents/mm_petition.txt\n",
      "Processing documents/city_henriques.txt\n",
      "Processing documents/the_site.txt\n",
      "Processing documents/mcgill_manfredi.txt\n",
      "Processing documents/cultural_survival.txt\n",
      "Processing documents/tribune_wexler.txt\n",
      "Processing documents/the_mission.txt\n",
      "Processing documents/ed_cable_01.txt\n",
      "Processing documents/mm_sep_12.txt\n",
      "Processing documents/the_stakeholders.txt\n",
      "Processing documents/cbc_03.txt\n",
      "Processing documents/the_challenge.txt\n",
      "Processing documents/cbc_02.txt\n",
      "Processing documents/cbc_01.txt\n",
      "Processing documents/global_omalley.txt\n",
      "Processing documents/globe_01.txt\n",
      "Processing documents/city_rubertucci.txt\n",
      "Processing documents/ed_cable.txt\n",
      "Processing documents/cbc_lapierre.txt\n",
      "Processing documents/daily_catlin.txt\n",
      "Processing documents/global_jelowicki.txt\n",
      "Processing documents/globe_amador.txt\n",
      "Processing documents/global_carpenter.txt\n",
      "Processing documents/ed_bonspiel.txt\n"
     ]
    },
    {
     "ename": "AttributeError",
     "evalue": "'str' object has no attribute 'noun_chunks'",
     "output_type": "error",
     "traceback": [
      "\u001b[0;31m---------------------------------------------------------------------------\u001b[0m",
      "\u001b[0;31mAttributeError\u001b[0m                            Traceback (most recent call last)",
      "Cell \u001b[0;32mIn[15], line 23\u001b[0m\n\u001b[1;32m     20\u001b[0m comparing_noun_phrases_script \u001b[38;5;241m=\u001b[39m runpy\u001b[38;5;241m.\u001b[39mrun_path(\u001b[38;5;124m'\u001b[39m\u001b[38;5;124m/Users/Hunter/grave_site/comparing_noun_phrases_in_document_by_tag.py\u001b[39m\u001b[38;5;124m'\u001b[39m)\n\u001b[1;32m     22\u001b[0m \u001b[38;5;66;03m# Run the main function\u001b[39;00m\n\u001b[0;32m---> 23\u001b[0m \u001b[43mcomparing_noun_phrases_script\u001b[49m\u001b[43m[\u001b[49m\u001b[38;5;124;43m'\u001b[39;49m\u001b[38;5;124;43mmain\u001b[39;49m\u001b[38;5;124;43m'\u001b[39;49m\u001b[43m]\u001b[49m\u001b[43m(\u001b[49m\u001b[43m)\u001b[49m\n",
      "File \u001b[0;32m~/grave_site/comparing_noun_phrases_in_document_by_tag.py:89\u001b[0m, in \u001b[0;36mmain\u001b[0;34m()\u001b[0m\n\u001b[1;32m     87\u001b[0m corpus \u001b[38;5;241m=\u001b[39m read_documents(doc_dir)\n\u001b[1;32m     88\u001b[0m corpus_indigenous, corpus_indigenous \u001b[38;5;241m=\u001b[39m split_corpus(corpus, \u001b[38;5;124m'\u001b[39m\u001b[38;5;124mindigenous\u001b[39m\u001b[38;5;124m'\u001b[39m)\n\u001b[0;32m---> 89\u001b[0m noun_phrases_indigenous \u001b[38;5;241m=\u001b[39m \u001b[43mcount_noun_phrases\u001b[49m\u001b[43m(\u001b[49m\u001b[43mcorpus_indigenous\u001b[49m\u001b[43m)\u001b[49m\n\u001b[1;32m     90\u001b[0m noun_phrases_non_indigenous \u001b[38;5;241m=\u001b[39m count_noun_phrases(corpus_non_indigenous)\n\u001b[1;32m     91\u001b[0m compare_noun_phrases(noun_phrases_indigenous, noun_phrases_non_indigenous)\n",
      "File \u001b[0;32m~/grave_site/comparing_noun_phrases_in_document_by_tag.py:71\u001b[0m, in \u001b[0;36mcount_noun_phrases\u001b[0;34m(corpus)\u001b[0m\n\u001b[1;32m     68\u001b[0m noun_phrases \u001b[38;5;241m=\u001b[39m Counter()\n\u001b[1;32m     70\u001b[0m \u001b[38;5;28;01mfor\u001b[39;00m doc \u001b[38;5;129;01min\u001b[39;00m corpus:\n\u001b[0;32m---> 71\u001b[0m     noun_phrases\u001b[38;5;241m.\u001b[39mupdate(np\u001b[38;5;241m.\u001b[39mtext \u001b[38;5;28;01mfor\u001b[39;00m np \u001b[38;5;129;01min\u001b[39;00m \u001b[43mdoc\u001b[49m\u001b[43m[\u001b[49m\u001b[38;5;124;43m'\u001b[39;49m\u001b[38;5;124;43mtext\u001b[39;49m\u001b[38;5;124;43m'\u001b[39;49m\u001b[43m]\u001b[49m\u001b[38;5;241;43m.\u001b[39;49m\u001b[43mnoun_chunks\u001b[49m)\n\u001b[1;32m     73\u001b[0m \u001b[38;5;28;01mreturn\u001b[39;00m noun_phrases\n",
      "\u001b[0;31mAttributeError\u001b[0m: 'str' object has no attribute 'noun_chunks'"
     ]
    }
   ],
   "source": [
    "# Importing required libraries\n",
    "\n",
    "# pandas for data manipulation\n",
    "import pandas as pd\n",
    "\n",
    "# numpy for numerical operations\n",
    "import numpy as np\n",
    "\n",
    "# nltk for natural language processing tasks\n",
    "import nltk\n",
    "from nltk import word_tokenize\n",
    "\n",
    "# spacy for advanced natural language processing\n",
    "import spacy\n",
    "from spacy import displacy\n",
    "\n",
    "import runpy\n",
    "\n",
    "# Load the comparing_noun_phrases_in_document_by_tag.py script\n",
    "comparing_noun_phrases_script = runpy.run_path('/Users/Hunter/grave_site/comparing_noun_phrases_in_document_by_tag.py')\n",
    "\n",
    "# Run the main function\n",
    "comparing_noun_phrases_script['main']()\n"
   ]
  },
  {
   "cell_type": "markdown",
   "metadata": {},
   "source": [
    "# Load the comparing_noun_phrases Script\n",
    "Load the comparing_noun_phrases script using appropriate Python methods."
   ]
  },
  {
   "cell_type": "code",
   "execution_count": 7,
   "metadata": {},
   "outputs": [
    {
     "ename": "NameError",
     "evalue": "name 'comparing_noun_phrases' is not defined",
     "output_type": "error",
     "traceback": [
      "\u001b[0;31m---------------------------------------------------------------------------\u001b[0m",
      "\u001b[0;31mNameError\u001b[0m                                 Traceback (most recent call last)",
      "Cell \u001b[0;32mIn[7], line 9\u001b[0m\n\u001b[1;32m      1\u001b[0m \u001b[38;5;66;03m# Load the comparing_noun_phrases script\u001b[39;00m\n\u001b[1;32m      2\u001b[0m \u001b[38;5;66;03m# This script is assumed to be in the same directory as this notebook\u001b[39;00m\n\u001b[1;32m      3\u001b[0m \u001b[38;5;66;03m# If it's not, you should specify the full path to the script\u001b[39;00m\n\u001b[0;32m   (...)\u001b[0m\n\u001b[1;32m      7\u001b[0m \n\u001b[1;32m      8\u001b[0m \u001b[38;5;66;03m# Let's check if the script is loaded correctly by printing its docstring\u001b[39;00m\n\u001b[0;32m----> 9\u001b[0m \u001b[38;5;28mprint\u001b[39m(\u001b[43mcomparing_noun_phrases\u001b[49m\u001b[38;5;241m.\u001b[39m\u001b[38;5;18m__doc__\u001b[39m)\n",
      "\u001b[0;31mNameError\u001b[0m: name 'comparing_noun_phrases' is not defined"
     ]
    }
   ],
   "source": [
    "# Load the comparing_noun_phrases script\n",
    "# This script is assumed to be in the same directory as this notebook\n",
    "# If it's not, you should specify the full path to the script\n",
    "\n",
    "# The script is loaded as a module, so we can access its functions and variables using dot notation\n",
    "# For example, if the script has a function named compare, we can call it like this: comparing_noun_phrases.compare()\n",
    "\n",
    "# Let's check if the script is loaded correctly by printing its docstring\n",
    "print(comparing_noun_phrases.__doc__)"
   ]
  },
  {
   "cell_type": "markdown",
   "metadata": {},
   "source": [
    "# Define Noun Phrases for Comparison\n",
    "Define two or more noun phrases that will be compared using the script."
   ]
  },
  {
   "cell_type": "code",
   "execution_count": 8,
   "metadata": {},
   "outputs": [],
   "source": [
    "# Define noun phrases for comparison\n",
    "# These are the noun phrases that we will compare using the comparing_noun_phrases script\n",
    "\n",
    "# Noun phrase 1\n",
    "noun_phrase_1 = \"The quick brown fox\"\n",
    "\n",
    "# Noun phrase 2\n",
    "noun_phrase_2 = \"The lazy dog\"\n",
    "\n",
    "# Noun phrase 3\n",
    "noun_phrase_3 = \"The jumping cat\"\n",
    "\n",
    "# We can add more noun phrases if needed\n",
    "# Just follow the same format: noun_phrase_X = \"Your noun phrase here\"\n",
    "\n",
    "# Now we have our noun phrases ready for comparison"
   ]
  },
  {
   "cell_type": "markdown",
   "metadata": {},
   "source": [
    "# Execute the comparing_noun_phrases Function\n",
    "Call the function from the script with the defined noun phrases as arguments."
   ]
  },
  {
   "cell_type": "code",
   "execution_count": 9,
   "metadata": {},
   "outputs": [
    {
     "ename": "NameError",
     "evalue": "name 'comparing_noun_phrases' is not defined",
     "output_type": "error",
     "traceback": [
      "\u001b[0;31m---------------------------------------------------------------------------\u001b[0m",
      "\u001b[0;31mNameError\u001b[0m                                 Traceback (most recent call last)",
      "Cell \u001b[0;32mIn[9], line 5\u001b[0m\n\u001b[1;32m      1\u001b[0m \u001b[38;5;66;03m# Execute the comparing_noun_phrases function\u001b[39;00m\n\u001b[1;32m      2\u001b[0m \u001b[38;5;66;03m# We will pass the defined noun phrases as arguments to the function\u001b[39;00m\n\u001b[1;32m      3\u001b[0m \n\u001b[1;32m      4\u001b[0m \u001b[38;5;66;03m# Call the function with noun_phrase_1 and noun_phrase_2\u001b[39;00m\n\u001b[0;32m----> 5\u001b[0m comparison_result_1_2 \u001b[38;5;241m=\u001b[39m \u001b[43mcomparing_noun_phrases\u001b[49m\u001b[38;5;241m.\u001b[39mcompare(noun_phrase_1, noun_phrase_2)\n\u001b[1;32m      7\u001b[0m \u001b[38;5;66;03m# Call the function with noun_phrase_1 and noun_phrase_3\u001b[39;00m\n\u001b[1;32m      8\u001b[0m comparison_result_1_3 \u001b[38;5;241m=\u001b[39m comparing_noun_phrases\u001b[38;5;241m.\u001b[39mcompare(noun_phrase_1, noun_phrase_3)\n",
      "\u001b[0;31mNameError\u001b[0m: name 'comparing_noun_phrases' is not defined"
     ]
    }
   ],
   "source": [
    "# Execute the comparing_noun_phrases function\n",
    "# We will pass the defined noun phrases as arguments to the function\n",
    "\n",
    "# Call the function with noun_phrase_1 and noun_phrase_2\n",
    "comparison_result_1_2 = comparing_noun_phrases.compare(noun_phrase_1, noun_phrase_2)\n",
    "\n",
    "# Call the function with noun_phrase_1 and noun_phrase_3\n",
    "comparison_result_1_3 = comparing_noun_phrases.compare(noun_phrase_1, noun_phrase_3)\n",
    "\n",
    "# Call the function with noun_phrase_2 and noun_phrase_3\n",
    "comparison_result_2_3 = comparing_noun_phrases.compare(noun_phrase_2, noun_phrase_3)\n",
    "\n",
    "# Now we have the comparison results\n",
    "# We can print them or use them in further analysis"
   ]
  },
  {
   "cell_type": "markdown",
   "metadata": {},
   "source": [
    "# Display and Interpret the Results\n",
    "Display the results returned by the function and provide an interpretation or explanation of the results."
   ]
  },
  {
   "cell_type": "code",
   "execution_count": null,
   "metadata": {},
   "outputs": [],
   "source": [
    "# Displaying the results\n",
    "print(\"Comparison between noun phrase 1 and noun phrase 2: \", comparison_result_1_2)\n",
    "print(\"Comparison between noun phrase 1 and noun phrase 3: \", comparison_result_1_3)\n",
    "print(\"Comparison between noun phrase 2 and noun phrase 3: \", comparison_result_2_3)\n",
    "\n",
    "# Interpretation of the results\n",
    "# The compare function in the comparing_noun_phrases script returns a similarity score between 0 and 1\n",
    "# A score of 1 means the noun phrases are identical, and a score of 0 means they are completely different\n",
    "\n",
    "# Let's interpret the results\n",
    "# We will consider a score above 0.5 as indicating similar noun phrases, and a score below 0.5 as indicating different noun phrases\n",
    "\n",
    "def interpret_result(score):\n",
    "    if score > 0.5:\n",
    "        return \"The noun phrases are similar\"\n",
    "    else:\n",
    "        return \"The noun phrases are different\"\n",
    "\n",
    "print(\"Interpretation of comparison between noun phrase 1 and noun phrase 2: \", interpret_result(comparison_result_1_2))\n",
    "print(\"Interpretation of comparison between noun phrase 1 and noun phrase 3: \", interpret_result(comparison_result_1_3))\n",
    "print(\"Interpretation of comparison between noun phrase 2 and noun phrase 3: \", interpret_result(comparison_result_2_3))"
   ]
  }
 ],
 "metadata": {
  "kernelspec": {
   "display_name": ".venv",
   "language": "python",
   "name": "python3"
  },
  "language_info": {
   "codemirror_mode": {
    "name": "ipython",
    "version": 3
   },
   "file_extension": ".py",
   "mimetype": "text/x-python",
   "name": "python",
   "nbconvert_exporter": "python",
   "pygments_lexer": "ipython3",
   "version": "3.12.0"
  },
  "orig_nbformat": 4
 },
 "nbformat": 4,
 "nbformat_minor": 2
}
