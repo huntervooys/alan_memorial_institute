{
 "cells": [
  {
   "cell_type": "markdown",
   "metadata": {},
   "source": [
    "# Define the Item Class\n",
    "Define a class for items that will be placed on the shelf. This class may include properties such as name and size."
   ]
  },
  {
   "cell_type": "code",
   "execution_count": null,
   "metadata": {},
   "outputs": [],
   "source": [
    "\n",
    "# Define the Item class\n",
    "class Item:\n",
    "    def __init__(self, name, size):\n",
    "        # Initialize the name and size properties of the item\n",
    "        self.name = name\n",
    "        self.size = size\n",
    "\n",
    "    def __str__(self):\n",
    "        # Define the string representation of the item\n",
    "        return f'Item: {self.name}, Size: {self.size}'\n"
   ]
  },
  {
   "cell_type": "markdown",
   "metadata": {},
   "source": [
    "# Define the Shelf Class\n",
    "Define a class for the shelf. This class should include methods for adding and removing items, and a property to keep track of the items currently on the shelf."
   ]
  },
  {
   "cell_type": "code",
   "execution_count": null,
   "metadata": {},
   "outputs": [],
   "source": [
    "\n",
    "# Define the Shelf class\n",
    "class Shelf:\n",
    "    def __init__(self):\n",
    "        # Initialize the items property as an empty list\n",
    "        self.items = []\n",
    "\n",
    "    def add_item(self, item):\n",
    "        # Add an item to the shelf\n",
    "        self.items.append(item)\n",
    "\n",
    "    def remove_item(self, item_name):\n",
    "        # Remove an item from the shelf by its name\n",
    "        for i in range(len(self.items)):\n",
    "            if self.items[i].name == item_name:\n",
    "                return self.items.pop(i)\n",
    "        return None\n",
    "\n",
    "    @property\n",
    "    def current_items(self):\n",
    "        # Return a list of the names of the items currently on the shelf\n",
    "        return [item.name for item in self.items]\n",
    "```"
   ]
  },
  {
   "cell_type": "markdown",
   "metadata": {},
   "source": [
    "# Create Shelf and Item Instances\n",
    "Create instances of the Shelf and Item classes for use in the following sections."
   ]
  },
  {
   "cell_type": "code",
   "execution_count": null,
   "metadata": {},
   "outputs": [],
   "source": [
    "```python\n",
    "# Create instances of the Shelf class\n",
    "shelf1 = Shelf()\n",
    "shelf2 = Shelf()\n",
    "\n",
    "# Create instances of the Item class\n",
    "item1 = Item(\"Book\", 1)\n",
    "item2 = Item(\"Laptop\", 3)\n",
    "item3 = Item(\"Pen\", 0.1)\n",
    "item4 = Item(\"Notebook\", 0.5)\n",
    "\n",
    "# Add items to the shelves\n",
    "shelf1.add_item(item1)\n",
    "shelf1.add_item(item2)\n",
    "shelf2.add_item(item3)\n",
    "shelf2.add_item(item4)\n"
   ]
  },
  {
   "cell_type": "markdown",
   "metadata": {},
   "source": [
    "# Add Items to Shelf\n",
    "Use the add method of the Shelf class to add items to the shelf."
   ]
  },
  {
   "cell_type": "code",
   "execution_count": null,
   "metadata": {},
   "outputs": [],
   "source": [
    "\n",
    "# Add more items to the shelves\n",
    "item5 = Item(\"Mouse\", 0.2)\n",
    "item6 = Item(\"Keyboard\", 1.5)\n",
    "item7 = Item(\"Monitor\", 5)\n",
    "item8 = Item(\"Headphones\", 0.3)\n",
    "\n",
    "# Add the new items to the shelves\n",
    "shelf1.add_item(item5)\n",
    "shelf1.add_item(item6)\n",
    "shelf2.add_item(item7)\n",
    "shelf2.add_item(item8)\n",
    "\n",
    "# Print the current items on each shelf\n",
    "print(\"Current items on Shelf 1:\")\n",
    "for item in shelf1.current_items:\n",
    "    print(item)\n",
    "\n",
    "print(\"\\nCurrent items on Shelf 2:\")\n",
    "for item in shelf2.current_items:\n",
    "    print(item)"
   ]
  },
  {
   "cell_type": "markdown",
   "metadata": {},
   "source": [
    "# Remove Items from Shelf\n",
    "Use the remove method of the Shelf class to remove items from the shelf."
   ]
  },
  {
   "cell_type": "code",
   "execution_count": null,
   "metadata": {},
   "outputs": [],
   "source": [
    "# Remove items from the shelves\n",
    "removed_item1 = shelf1.remove_item(\"Book\")\n",
    "removed_item2 = shelf2.remove_item(\"Monitor\")\n",
    "\n",
    "# Print the removed items\n",
    "print(f\"Removed {removed_item1} from Shelf 1\")\n",
    "print(f\"Removed {removed_item2} from Shelf 2\")\n",
    "\n",
    "# Print the current items on each shelf\n",
    "print(\"\\nCurrent items on Shelf 1:\")\n",
    "for item in shelf1.current_items:\n",
    "    print(item)\n",
    "\n",
    "print(\"\\nCurrent items on Shelf 2:\")\n",
    "for item in shelf2.current_items:\n",
    "    print(item)"
   ]
  }
 ],
 "metadata": {
  "language_info": {
   "name": "python"
  },
  "orig_nbformat": 4
 },
 "nbformat": 4,
 "nbformat_minor": 2
}
