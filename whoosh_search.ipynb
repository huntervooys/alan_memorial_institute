{
 "cells": [
  {
   "cell_type": "code",
   "execution_count": 64,
   "metadata": {},
   "outputs": [],
   "source": [
    "from whoosh.index import create_in\n",
    "from whoosh.fields import *\n",
    "from whoosh.analysis import StemmingAnalyzer\n",
    "import os\n",
    "\n",
    "# Create index directory if it doesn't exist\n",
    "if not os.path.exists(\"indexdir\"):\n",
    "    os.makedirs(\"indexdir\")\n",
    "\n",
    "schema = Schema(id=ID(stored=True), \n",
    "                title=TEXT(stored=True, analyzer=StemmingAnalyzer()), \n",
    "                content=TEXT(analyzer=StemmingAnalyzer()),\n",
    "                author=TEXT(stored=True),\n",
    "                publisher=TEXT(stored=True),\n",
    "                url=ID(stored=True),\n",
    "                tags=KEYWORD(stored=True, commas=True))\n",
    "# Create index\n",
    "index = create_in(\"indexdir\", schema)"
   ]
  },
  {
   "cell_type": "code",
   "execution_count": 65,
   "metadata": {},
   "outputs": [],
   "source": [
    "from collections import defaultdict\n",
    "from nltk.tokenize import sent_tokenize\n",
    "import yaml\n",
    "import re\n",
    "from pathlib import Path\n",
    "\n",
    "# Pattern to match the front matter\n",
    "p = re.compile(r'---(.*?)---', re.DOTALL)\n",
    "\n",
    "# List to store the documents\n",
    "documents = []\n",
    "\n",
    "# Iterate over all .txt files in the data directory\n",
    "for file_path in Path('data').glob('*.txt'):\n",
    "    with open(file_path, 'r') as f:\n",
    "        data = f.read()\n",
    "\n",
    "    match = p.match(data)\n",
    "    fm = match.group(1)\n",
    "    meta = yaml.safe_load(fm)\n",
    "    \n",
    "    document = p.sub(\"\", data)\n",
    "    \n",
    "    sentences = sent_tokenize(document)\n",
    "    \n",
    "    for sentence in sentences:\n",
    "        # Create a dictionary for each sentence\n",
    "        doc_dict = {\n",
    "            'id': str(len(documents)),\n",
    "            'title': meta.get('title', ''),\n",
    "            'content': sentence,\n",
    "            'author': meta.get('author', ''),\n",
    "            'publisher': meta.get('publisher', ''),\n",
    "            'url': meta.get('URL', ''),\n",
    "            'tags': ','.join(meta.get('tags', []))\n",
    "        }\n",
    "        \n",
    "        # Add the dictionary to the list\n",
    "        documents.append(doc_dict)"
   ]
  },
  {
   "cell_type": "code",
   "execution_count": 66,
   "metadata": {},
   "outputs": [],
   "source": [
    "from whoosh.fields import Schema, TEXT, ID\n",
    "\n",
    "# Define schema\n",
    "schema = Schema(id=ID(stored=True), \n",
    "                title=TEXT(stored=True), \n",
    "                content=TEXT(stored=True),\n",
    "                author=TEXT(stored=True),\n",
    "                publisher=TEXT(stored=True),\n",
    "                url=ID(stored=True),\n",
    "                tags=KEYWORD(stored=True, commas=True))\n",
    "\n",
    "# Add documents to the index\n",
    "writer = AsyncWriter(index)\n",
    "for doc in documents:\n",
    "    writer.add_document(id=doc['id'], \n",
    "                        title=doc['title'], \n",
    "                        content=doc['content'],\n",
    "                        author=doc['author'],\n",
    "                        publisher=doc['publisher'],\n",
    "                        url=doc['url'],\n",
    "                        tags=doc['tags'])\n",
    "writer.commit()"
   ]
  },
  {
   "cell_type": "code",
   "execution_count": 67,
   "metadata": {},
   "outputs": [
    {
     "name": "stdout",
     "output_type": "stream",
     "text": [
      "Title: The Site\n"
     ]
    },
    {
     "ename": "KeyError",
     "evalue": "'content'",
     "output_type": "error",
     "traceback": [
      "\u001b[0;31m---------------------------------------------------------------------------\u001b[0m",
      "\u001b[0;31mKeyError\u001b[0m                                  Traceback (most recent call last)",
      "Cell \u001b[0;32mIn[67], line 18\u001b[0m\n\u001b[1;32m     15\u001b[0m             \u001b[38;5;28mprint\u001b[39m(\u001b[38;5;124m\"\u001b[39m\u001b[38;5;124m--------------------\u001b[39m\u001b[38;5;124m\"\u001b[39m)\n\u001b[1;32m     17\u001b[0m \u001b[38;5;66;03m# Call the search function with the query \"burial site\"\u001b[39;00m\n\u001b[0;32m---> 18\u001b[0m \u001b[43msearch\u001b[49m\u001b[43m(\u001b[49m\u001b[38;5;124;43m\"\u001b[39;49m\u001b[38;5;124;43mburial site\u001b[39;49m\u001b[38;5;124;43m\"\u001b[39;49m\u001b[43m)\u001b[49m\n",
      "Cell \u001b[0;32mIn[67], line 10\u001b[0m, in \u001b[0;36msearch\u001b[0;34m(query)\u001b[0m\n\u001b[1;32m      8\u001b[0m \u001b[38;5;28;01mfor\u001b[39;00m hit \u001b[38;5;129;01min\u001b[39;00m results:\n\u001b[1;32m      9\u001b[0m     \u001b[38;5;28mprint\u001b[39m(\u001b[38;5;124m\"\u001b[39m\u001b[38;5;124mTitle:\u001b[39m\u001b[38;5;124m\"\u001b[39m, hit[\u001b[38;5;124m\"\u001b[39m\u001b[38;5;124mtitle\u001b[39m\u001b[38;5;124m\"\u001b[39m])\n\u001b[0;32m---> 10\u001b[0m     \u001b[38;5;28mprint\u001b[39m(\u001b[38;5;124m\"\u001b[39m\u001b[38;5;124mContent:\u001b[39m\u001b[38;5;124m\"\u001b[39m, \u001b[43mhit\u001b[49m\u001b[43m[\u001b[49m\u001b[38;5;124;43m\"\u001b[39;49m\u001b[38;5;124;43mcontent\u001b[39;49m\u001b[38;5;124;43m\"\u001b[39;49m\u001b[43m]\u001b[49m)\n\u001b[1;32m     11\u001b[0m     \u001b[38;5;28mprint\u001b[39m(\u001b[38;5;124m\"\u001b[39m\u001b[38;5;124mAuthor:\u001b[39m\u001b[38;5;124m\"\u001b[39m, hit[\u001b[38;5;124m\"\u001b[39m\u001b[38;5;124mauthor\u001b[39m\u001b[38;5;124m\"\u001b[39m])\n\u001b[1;32m     12\u001b[0m     \u001b[38;5;28mprint\u001b[39m(\u001b[38;5;124m\"\u001b[39m\u001b[38;5;124mPublisher:\u001b[39m\u001b[38;5;124m\"\u001b[39m, hit[\u001b[38;5;124m\"\u001b[39m\u001b[38;5;124mpublisher\u001b[39m\u001b[38;5;124m\"\u001b[39m])\n",
      "File \u001b[0;32m~/.python/current/lib/python3.10/site-packages/whoosh/searching.py:1513\u001b[0m, in \u001b[0;36mHit.__getitem__\u001b[0;34m(self, fieldname)\u001b[0m\n\u001b[1;32m   1510\u001b[0m     cr \u001b[38;5;241m=\u001b[39m reader\u001b[38;5;241m.\u001b[39mcolumn_reader(fieldname)\n\u001b[1;32m   1511\u001b[0m     \u001b[38;5;28;01mreturn\u001b[39;00m cr[\u001b[38;5;28mself\u001b[39m\u001b[38;5;241m.\u001b[39mdocnum]\n\u001b[0;32m-> 1513\u001b[0m \u001b[38;5;28;01mraise\u001b[39;00m \u001b[38;5;167;01mKeyError\u001b[39;00m(fieldname)\n",
      "\u001b[0;31mKeyError\u001b[0m: 'content'"
     ]
    }
   ],
   "source": [
    "# Define schema\n",
    "schema = Schema(id=ID(stored=True), \n",
    "                title=TEXT(stored=True), \n",
    "                content=TEXT(stored=True),\n",
    "                author=TEXT(stored=True),\n",
    "                publisher=TEXT(stored=True),\n",
    "                url=ID(stored=True),\n",
    "                tags=KEYWORD(stored=True, commas=True))\n",
    "\n",
    "# Call the search function with the query \"burial site\"\n",
    "search(\"burial site\")"
   ]
  },
  {
   "cell_type": "code",
   "execution_count": 68,
   "metadata": {},
   "outputs": [
    {
     "name": "stdout",
     "output_type": "stream",
     "text": [
      "<Schema: ['author', 'content', 'id', 'publisher', 'tags', 'title', 'url']>\n"
     ]
    }
   ],
   "source": [
    "print(index.schema)"
   ]
  },
  {
   "cell_type": "code",
   "execution_count": 74,
   "metadata": {},
   "outputs": [],
   "source": [
    "from whoosh.fields import Schema, TEXT, ID, KEYWORD\n",
    "\n",
    "# Define schema\n",
    "schema = Schema(id=ID(stored=True), \n",
    "                title=TEXT(stored=True), \n",
    "                content=TEXT(stored=True),\n",
    "                author=TEXT(stored=True),\n",
    "                publisher=TEXT(stored=True),\n",
    "                url=ID(stored=True),\n",
    "                tags=KEYWORD(stored=True, commas=False))"
   ]
  },
  {
   "cell_type": "code",
   "execution_count": 75,
   "metadata": {},
   "outputs": [],
   "source": [
    "# Add documents to the index\n",
    "writer = AsyncWriter(index)\n",
    "for doc in documents:\n",
    "    writer.add_document(**doc)\n",
    "writer.commit()"
   ]
  },
  {
   "cell_type": "code",
   "execution_count": 76,
   "metadata": {},
   "outputs": [
    {
     "name": "stdout",
     "output_type": "stream",
     "text": [
      "Found 96 results.\n",
      "{'author': 'Mohawk Mothers', 'id': '229', 'publisher': 'Mohawk Mothers', 'tags': 'i,n,d,i,g,e,n,o,u,s', 'title': 'The Site', 'url': 'https://www.mohawkmothers.ca/the-site'}\n",
      "Title: The Site\n"
     ]
    },
    {
     "ename": "KeyError",
     "evalue": "'content'",
     "output_type": "error",
     "traceback": [
      "\u001b[0;31m---------------------------------------------------------------------------\u001b[0m",
      "\u001b[0;31mKeyError\u001b[0m                                  Traceback (most recent call last)",
      "Cell \u001b[0;32mIn[76], line 18\u001b[0m\n\u001b[1;32m     15\u001b[0m             \u001b[38;5;28mprint\u001b[39m(\u001b[38;5;124m\"\u001b[39m\u001b[38;5;124m--------------------\u001b[39m\u001b[38;5;124m\"\u001b[39m)\n\u001b[1;32m     17\u001b[0m \u001b[38;5;66;03m# Call the search function with the query \"burial site\"\u001b[39;00m\n\u001b[0;32m---> 18\u001b[0m \u001b[43msearch\u001b[49m\u001b[43m(\u001b[49m\u001b[38;5;124;43m\"\u001b[39;49m\u001b[38;5;124;43mburial site\u001b[39;49m\u001b[38;5;124;43m\"\u001b[39;49m\u001b[43m)\u001b[49m\n",
      "Cell \u001b[0;32mIn[76], line 10\u001b[0m, in \u001b[0;36msearch\u001b[0;34m(query)\u001b[0m\n\u001b[1;32m      8\u001b[0m \u001b[38;5;28mprint\u001b[39m(hit\u001b[38;5;241m.\u001b[39mfields())  \u001b[38;5;66;03m# Print out the fields of the hit\u001b[39;00m\n\u001b[1;32m      9\u001b[0m \u001b[38;5;28mprint\u001b[39m(\u001b[38;5;124m\"\u001b[39m\u001b[38;5;124mTitle:\u001b[39m\u001b[38;5;124m\"\u001b[39m, hit[\u001b[38;5;124m\"\u001b[39m\u001b[38;5;124mtitle\u001b[39m\u001b[38;5;124m\"\u001b[39m])\n\u001b[0;32m---> 10\u001b[0m \u001b[38;5;28mprint\u001b[39m(\u001b[38;5;124m\"\u001b[39m\u001b[38;5;124mContent:\u001b[39m\u001b[38;5;124m\"\u001b[39m, \u001b[43mhit\u001b[49m\u001b[43m[\u001b[49m\u001b[38;5;124;43m\"\u001b[39;49m\u001b[38;5;124;43mcontent\u001b[39;49m\u001b[38;5;124;43m\"\u001b[39;49m\u001b[43m]\u001b[49m)\n\u001b[1;32m     11\u001b[0m \u001b[38;5;28mprint\u001b[39m(\u001b[38;5;124m\"\u001b[39m\u001b[38;5;124mAuthor:\u001b[39m\u001b[38;5;124m\"\u001b[39m, hit[\u001b[38;5;124m\"\u001b[39m\u001b[38;5;124mauthor\u001b[39m\u001b[38;5;124m\"\u001b[39m])\n\u001b[1;32m     12\u001b[0m \u001b[38;5;28mprint\u001b[39m(\u001b[38;5;124m\"\u001b[39m\u001b[38;5;124mPublisher:\u001b[39m\u001b[38;5;124m\"\u001b[39m, hit[\u001b[38;5;124m\"\u001b[39m\u001b[38;5;124mpublisher\u001b[39m\u001b[38;5;124m\"\u001b[39m])\n",
      "File \u001b[0;32m~/.python/current/lib/python3.10/site-packages/whoosh/searching.py:1513\u001b[0m, in \u001b[0;36mHit.__getitem__\u001b[0;34m(self, fieldname)\u001b[0m\n\u001b[1;32m   1510\u001b[0m     cr \u001b[38;5;241m=\u001b[39m reader\u001b[38;5;241m.\u001b[39mcolumn_reader(fieldname)\n\u001b[1;32m   1511\u001b[0m     \u001b[38;5;28;01mreturn\u001b[39;00m cr[\u001b[38;5;28mself\u001b[39m\u001b[38;5;241m.\u001b[39mdocnum]\n\u001b[0;32m-> 1513\u001b[0m \u001b[38;5;28;01mraise\u001b[39;00m \u001b[38;5;167;01mKeyError\u001b[39;00m(fieldname)\n",
      "\u001b[0;31mKeyError\u001b[0m: 'content'"
     ]
    }
   ],
   "source": [
    "# Search the index\n",
    "def search(query):\n",
    "    with index.searcher() as searcher:\n",
    "        query = QueryParser(\"content\", index.schema).parse(query)\n",
    "        results = searcher.search(query)\n",
    "        print(f\"Found {len(results)} results.\")  # Print out the number of results\n",
    "        for hit in results:\n",
    "            print(hit.fields())  # Print out the fields of the hit\n",
    "            print(\"Title:\", hit[\"title\"])\n",
    "            print(\"Content:\", hit[\"content\"])\n",
    "            print(\"Author:\", hit[\"author\"])\n",
    "            print(\"Publisher:\", hit[\"publisher\"])\n",
    "            print(\"URL:\", hit[\"url\"])\n",
    "            print(\"Tags:\", hit[\"tags\"])\n",
    "            print(\"--------------------\")\n",
    "\n",
    "# Call the search function with the query \"burial site\"\n",
    "search(\"burial site\")"
   ]
  },
  {
   "cell_type": "code",
   "execution_count": null,
   "metadata": {},
   "outputs": [],
   "source": []
  }
 ],
 "metadata": {
  "kernelspec": {
   "display_name": "Python 3",
   "language": "python",
   "name": "python3"
  },
  "language_info": {
   "codemirror_mode": {
    "name": "ipython",
    "version": 3
   },
   "file_extension": ".py",
   "mimetype": "text/x-python",
   "name": "python",
   "nbconvert_exporter": "python",
   "pygments_lexer": "ipython3",
   "version": "3.10.13"
  }
 },
 "nbformat": 4,
 "nbformat_minor": 2
}
