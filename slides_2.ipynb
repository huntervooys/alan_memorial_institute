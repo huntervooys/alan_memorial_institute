{
 "cells": [
  {
   "cell_type": "markdown",
   "metadata": {},
   "source": [
    "# Keywords, Collocations and Association Metrics"
   ]
  },
  {
   "cell_type": "code",
   "execution_count": 32,
   "metadata": {},
   "outputs": [],
   "source": [
    "from pathlib import Path\n",
    "import matplotlib.pyplot as plt\n",
    "from collections import Counter\n",
    "import math"
   ]
  },
  {
   "cell_type": "code",
   "execution_count": 1,
   "metadata": {},
   "outputs": [
    {
     "name": "stdout",
     "output_type": "stream",
     "text": [
      "---\n",
      "title: The Challenge\n",
      "author: Mohawk Mothers\n",
      "publisher: Mohawk Mothers\n",
      "URL: https://www.mohawkmothers.ca/the-challenge\n",
      "summary: \n",
      "tags: \n",
      "    - indigenous\n",
      "---\n",
      "On October 27, 2022, the Mohawk Mothers won an important battle: the first-ever injunction obtained by self-represented Indigenous peoples in a Canadian Court. Following their own Indigenous legal system, the Kaianerehkó:wa, the Mohawk Mothers reminded the Quebec Superior Court of their obligations vis-à-vis Indigenous peoples and called upon the Court to respect their own laws protecting Indigenous peoples from mistreatment, including extermination policies. In court, the Mohawk Mothers faced numerous adversaries, including top lawyers from McGill University, the Société Québécoise des Infrastructures (SQI), the McGill University Health Center (MUHC), the Royal Victoria Hospital, the City of Montreal, the Attorney General of Canada, and the Attorney General of Quebec.\n",
      "The injunction issued by Justice Gregory Moore was issued on the basis of the plaintiffs’ (Mohawk Mothers) concerns that Indigenous children were used as test subjects in medical experiments at the Royal Victoria Hospital, and were potentially buried on the site slated for redevelopment. These concerns were based on both archival evidence and witness accounts, including a first-hand account of Lana Ponting, 81, a survivor of the CIA-funded MKULTRA mind control experiments. The Mohawk Mothers argued that the land set for redevelopment was the site of the precolonial Iroquoian village of Tekanontak (Mount Royal) and was used as a burial site before the arrival of Europeans. The necessity of using appropriate archaeological means to preserve the history of Iroquoian peoples cannot be a topic of debate.\n",
      "Throughout the hearings on October 26th and 27th, defendants and promoters of the redevelopment project used an array of technical and legal arguments to convey the following:\n",
      "That the plaintiffs were using the wrong forum to lay their claims, as other administrative processes exist for such questions in the province of Québec;\n",
      "That the promoters have not broken any law(s) and are respecting the Quebec Heritage Act (the plaintiffs asked that the Act be declared unconstitutional because it considers Indigenous heritage as the property of Quebec);\n",
      "That most of the evidence submitted by the plaintiffs, the Special Interlocutor, as well as the Truth and Reconciliation Commission’s Final Report, was not eligible for technical reasons; and\n",
      "That the six plaintiffs did not represent the Mohawk people –(the Mohawk Mothers argued that in Indigenous culture, every individual is free and self-representing)\n",
      "The Mohawk Mothers emphasized that it was their cultural duty to act as caretakers of their traditional territory, and to protect the children of past, present, and future generations. We also argued that allowing excavation work on the site could cause irreparable harm to the identity, history, and trust of Indigenous peoples. We emphasized that the situation was urgent: shovels had already broken ground just two days before the hearings. \n",
      "The Court Ruling acknowledged that the balance of convenience favored the Mohawk Mothers, who would “suffer irreparable harm if the excavation work is not suspended for the time it takes to develop an appropriate archaeological plan to identify any unmarked graves,” following the best practices determined by the Canadian Archaeological Association. The ruling thus invited the parties to “speak out of court to settle their differences on an amicable basis.” The promoters were reminded of Call to Action number 76 (found in the Truth and Reconciliation Commission’s Final Report), which relates to missing children and burial information:\n",
      "The Indigenous community most affected shall lead the development of the investigation;\n",
      "Input must be sought from Survivors and Knowledge Keepers in developing those strategies;\n",
      "Indigenous protocols shall be respected before any invasive technical inspection and investigation of a cemetery site. \n",
      "The ruling also ordered the defendants to fund the investigation. \n",
      "Following the injunction that was obtained on October 27, 2022, the Mohawk Mothers participated in negotiations with McGill University and the SQI to develop an archaeological plan for the site of the former Royal Victoria Hospital. A series of Judicial Settlement Conferences led all parties to adopt a settlement agreement which was homologated by the Quebec Superior Court and made public and enforceable on April 20, 2023.\n",
      "The agreement, signed by the Mohawk Mothers, McGill University, the McGill University Health Center, the Attorney General of Canada, the Attorney General of Quebec, and the City of Montreal, provides that a panel of three archaeologists jointly selected by all parties will make recommendations for remote-sensing techniques that will ensure that no remains are destroyed or disturbed during excavation work. These techniques include Ground Penetrant Radar, search dogs, and LiDAR laser imaging. The panel’s recommendations will be binding to all parties. Cultural monitors, appointed by the Mohawk Mothers, will be present during the execution of the techniques to conduct appropriate ceremonies and to ensure that Indigenous protocols regarding burial sites are respected at all times. \n",
      "In addition, McGill University, the McGill University Health Center, and the Attorney General of Canada have committed to sharing archival materials under their custody that may be of assistance in locating unmarked graves, or which may provide information on the medical experiments that were conducted at the hospital. These materials will be gathered and studied by the historical research firm, Know History, with funding provided by Canada. A process for gathering the statements of survivors is also being initiated.\n",
      "A preliminary investigation, spearheaded by the Mohawk Mothers since 2021, has led to several findings currently being examined with the help of archivists and historians. In an affidavit sharing the results of the preliminary investigation, and supported by 141 exhibits, anthropologist Philippe Blouin outlined evidence supporting the claim that the Royal Victoria Hospital site may hide unmarked Indigenous graves.\n",
      "As the assimilation of Indigenous people was being carried out as part of the Residential School system Indigenous children were being sent to other disciplinary institutions as well, such as psychiatric wards, juvenile delinquency centers, correction homes, and reformatories. Through IQ tests, juvenile courts, Indian agents, as well as the health care system and military institutions, Indigenous and Inuit people were brought to the Royal Victoria Hospital where they were subjected to medical experiments.\n",
      "Currently, more than 130 Indigenous children have been reported missing after being treated in Quebec hospitals since the 1950s. There are likely many more: the names of many children were not recorded, as they had been taken from their families and deemed orphans. \n",
      "The Mohawk Mothers’ investigation aims to find all the children that have disappeared, using the best practices to do so, and to offer closure to the families by disclosing the full story of how they went missing.\n"
     ]
    }
   ],
   "source": [
    "file_path = Path('documents/the_challenge.txt')\n",
    "\n",
    "with open(file_path, 'r') as f:\n",
    "    the_challenge = f.read()\n",
    "    \n",
    "print(the_challenge)"
   ]
  },
  {
   "cell_type": "code",
   "execution_count": 2,
   "metadata": {},
   "outputs": [
    {
     "name": "stdout",
     "output_type": "stream",
     "text": [
      "On October 27, 2022, the Mohawk Mothers won an important battle: the first-ever injunction obtained by self-represented Indigenous peoples in a Canadian Court. Following their own Indigenous legal system, the Kaianerehkó:wa, the Mohawk Mothers reminded the Quebec Superior Court of their obligations vis-à-vis Indigenous peoples and called upon the Court to respect their own laws protecting Indigenous peoples from mistreatment, including extermination policies. In court, the Mohawk Mothers faced numerous adversaries, including top lawyers from McGill University, the Société Québécoise des Infrastructures (SQI), the McGill University Health Center (MUHC), the Royal Victoria Hospital, the City of Montreal, the Attorney General of Canada, and the Attorney General of Quebec.\n",
      "The injunction issued by Justice Gregory Moore was issued on the basis of the plaintiffs’ (Mohawk Mothers) concerns that Indigenous children were used as test subjects in medical experiments at the Royal Victoria Hospital, and were potentially buried on the site slated for redevelopment. These concerns were based on both archival evidence and witness accounts, including a first-hand account of Lana Ponting, 81, a survivor of the CIA-funded MKULTRA mind control experiments. The Mohawk Mothers argued that the land set for redevelopment was the site of the precolonial Iroquoian village of Tekanontak (Mount Royal) and was used as a burial site before the arrival of Europeans. The necessity of using appropriate archaeological means to preserve the history of Iroquoian peoples cannot be a topic of debate.\n",
      "Throughout the hearings on October 26th and 27th, defendants and promoters of the redevelopment project used an array of technical and legal arguments to convey the following:\n",
      "That the plaintiffs were using the wrong forum to lay their claims, as other administrative processes exist for such questions in the province of Québec;\n",
      "That the promoters have not broken any law(s) and are respecting the Quebec Heritage Act (the plaintiffs asked that the Act be declared unconstitutional because it considers Indigenous heritage as the property of Quebec);\n",
      "That most of the evidence submitted by the plaintiffs, the Special Interlocutor, as well as the Truth and Reconciliation Commission’s Final Report, was not eligible for technical reasons; and\n",
      "That the six plaintiffs did not represent the Mohawk people –(the Mohawk Mothers argued that in Indigenous culture, every individual is free and self-representing)\n",
      "The Mohawk Mothers emphasized that it was their cultural duty to act as caretakers of their traditional territory, and to protect the children of past, present, and future generations. We also argued that allowing excavation work on the site could cause irreparable harm to the identity, history, and trust of Indigenous peoples. We emphasized that the situation was urgent: shovels had already broken ground just two days before the hearings. \n",
      "The Court Ruling acknowledged that the balance of convenience favored the Mohawk Mothers, who would “suffer irreparable harm if the excavation work is not suspended for the time it takes to develop an appropriate archaeological plan to identify any unmarked graves,” following the best practices determined by the Canadian Archaeological Association. The ruling thus invited the parties to “speak out of court to settle their differences on an amicable basis.” The promoters were reminded of Call to Action number 76 (found in the Truth and Reconciliation Commission’s Final Report), which relates to missing children and burial information:\n",
      "The Indigenous community most affected shall lead the development of the investigation;\n",
      "Input must be sought from Survivors and Knowledge Keepers in developing those strategies;\n",
      "Indigenous protocols shall be respected before any invasive technical inspection and investigation of a cemetery site. \n",
      "The ruling also ordered the defendants to fund the investigation. \n",
      "Following the injunction that was obtained on October 27, 2022, the Mohawk Mothers participated in negotiations with McGill University and the SQI to develop an archaeological plan for the site of the former Royal Victoria Hospital. A series of Judicial Settlement Conferences led all parties to adopt a settlement agreement which was homologated by the Quebec Superior Court and made public and enforceable on April 20, 2023.\n",
      "The agreement, signed by the Mohawk Mothers, McGill University, the McGill University Health Center, the Attorney General of Canada, the Attorney General of Quebec, and the City of Montreal, provides that a panel of three archaeologists jointly selected by all parties will make recommendations for remote-sensing techniques that will ensure that no remains are destroyed or disturbed during excavation work. These techniques include Ground Penetrant Radar, search dogs, and LiDAR laser imaging. The panel’s recommendations will be binding to all parties. Cultural monitors, appointed by the Mohawk Mothers, will be present during the execution of the techniques to conduct appropriate ceremonies and to ensure that Indigenous protocols regarding burial sites are respected at all times. \n",
      "In addition, McGill University, the McGill University Health Center, and the Attorney General of Canada have committed to sharing archival materials under their custody that may be of assistance in locating unmarked graves, or which may provide information on the medical experiments that were conducted at the hospital. These materials will be gathered and studied by the historical research firm, Know History, with funding provided by Canada. A process for gathering the statements of survivors is also being initiated.\n",
      "A preliminary investigation, spearheaded by the Mohawk Mothers since 2021, has led to several findings currently being examined with the help of archivists and historians. In an affidavit sharing the results of the preliminary investigation, and supported by 141 exhibits, anthropologist Philippe Blouin outlined evidence supporting the claim that the Royal Victoria Hospital site may hide unmarked Indigenous graves.\n",
      "As the assimilation of Indigenous people was being carried out as part of the Residential School system Indigenous children were being sent to other disciplinary institutions as well, such as psychiatric wards, juvenile delinquency centers, correction homes, and reformatories. Through IQ tests, juvenile courts, Indian agents, as well as the health care system and military institutions, Indigenous and Inuit people were brought to the Royal Victoria Hospital where they were subjected to medical experiments.\n",
      "Currently, more than 130 Indigenous children have been reported missing after being treated in Quebec hospitals since the 1950s. There are likely many more: the names of many children were not recorded, as they had been taken from their families and deemed orphans. \n",
      "The Mohawk Mothers’ investigation aims to find all the children that have disappeared, using the best practices to do so, and to offer closure to the families by disclosing the full story of how they went missing.\n"
     ]
    }
   ],
   "source": [
    "## removing yaml frontmatter (processing it)\n",
    "challenge = the_challenge[160:]\n",
    "\n",
    "print(challenge) # a string with the whole document\n"
   ]
  },
  {
   "cell_type": "code",
   "execution_count": 3,
   "metadata": {},
   "outputs": [
    {
     "name": "stdout",
     "output_type": "stream",
     "text": [
      "on\n",
      "october\n",
      "the\n",
      "mohawk\n",
      "mothers\n",
      "won\n",
      "an\n",
      "important\n",
      "the\n",
      "injunction\n"
     ]
    }
   ],
   "source": [
    "def tokenize(string):\n",
    "    \n",
    "    tokens = string.split()\n",
    "    out = list()\n",
    "    \n",
    "    for token in tokens:\n",
    "        if token.isalpha() and token != '\\\\n':\n",
    "            out.append(token.lower())\n",
    "            \n",
    "    return out\n",
    "            \n",
    "tokens = tokenize(challenge)\n",
    "for token in tokens[:10]:\n",
    "    print(token)"
   ]
  },
  {
   "cell_type": "code",
   "execution_count": 4,
   "metadata": {},
   "outputs": [
    {
     "name": "stdout",
     "output_type": "stream",
     "text": [
      "total tokens in the challenge:  932\n"
     ]
    },
    {
     "data": {
      "text/plain": [
       "[('the', 104),\n",
       " ('of', 42),\n",
       " ('and', 34),\n",
       " ('to', 28),\n",
       " ('that', 21),\n",
       " ('indigenous', 16),\n",
       " ('as', 14),\n",
       " ('mohawk', 13),\n",
       " ('by', 13),\n",
       " ('in', 12)]"
      ]
     },
     "execution_count": 4,
     "metadata": {},
     "output_type": "execute_result"
    }
   ],
   "source": [
    "word_frequencies = Counter(tokens)\n",
    "print(\"total tokens in the challenge: \", len(tokens))\n",
    "word_frequencies.most_common(10)"
   ]
  },
  {
   "cell_type": "code",
   "execution_count": 65,
   "metadata": {},
   "outputs": [
    {
     "data": {
      "image/png": "[encoded data removed]",
      "text/plain": [
       "<Figure size 640x480 with 1 Axes>"
      ]
     },
     "metadata": {},
     "output_type": "display_data"
    }
   ],
   "source": [
    "### long tail on data\n",
    "### most words appear only once\n",
    "### (note the log scale on the y axis)\n",
    "counts = list(word_frequencies.values())\n",
    "plt.hist(counts, bins=30, log=True)\n",
    "plt.show()"
   ]
  },
  {
   "cell_type": "code",
   "execution_count": 6,
   "metadata": {},
   "outputs": [
    {
     "data": {
      "image/png": "[encoded data removed]",
      "text/plain": [
       "<Figure size 640x480 with 2 Axes>"
      ]
     },
     "metadata": {},
     "output_type": "display_data"
    }
   ],
   "source": [
    "ranks = word_frequencies.most_common()\n",
    "words, frequency = zip(*ranks)\n",
    "ranks = range(1, len(words)+1)\n",
    "\n",
    "# Plot with log axes\n",
    "plt.subplot(1, 2, 1)\n",
    "plt.scatter(ranks, frequency, s=5)\n",
    "plt.xlabel('log rank')\n",
    "plt.ylabel('log frequency')\n",
    "plt.xscale('log')\n",
    "plt.yscale('log')\n",
    "plt.title('Log Scale')\n",
    "plt.tight_layout()\n",
    "\n",
    "# Plot without log axes\n",
    "plt.subplot(1, 2, 2)\n",
    "plt.scatter(ranks, frequency, s=5)\n",
    "plt.xlabel('rank')\n",
    "plt.ylabel('frequency')\n",
    "plt.title('Linear Scale')\n",
    "plt.tight_layout()\n",
    "\n",
    "plt.show()\n",
    "\n",
    "#### word distributions follow a pattern called Zipf's law\n",
    "#### the frequency of a word is inversely proportional to its rank"
   ]
  },
  {
   "cell_type": "markdown",
   "metadata": {},
   "source": [
    "## Keywords"
   ]
  },
  {
   "cell_type": "code",
   "execution_count": 8,
   "metadata": {},
   "outputs": [
    {
     "name": "stdout",
     "output_type": "stream",
     "text": [
      "token: the, frequency: 104, relative frequency: 1115.8798283261804\n",
      "token: of, frequency: 42, relative frequency: 450.6437768240344\n",
      "token: and, frequency: 34, relative frequency: 364.80686695278973\n",
      "token: to, frequency: 28, relative frequency: 300.42918454935625\n",
      "token: that, frequency: 21, relative frequency: 225.3218884120172\n",
      "token: indigenous, frequency: 16, relative frequency: 171.67381974248926\n",
      "token: as, frequency: 14, relative frequency: 150.21459227467813\n",
      "token: mohawk, frequency: 13, relative frequency: 139.48497854077254\n",
      "token: by, frequency: 13, relative frequency: 139.48497854077254\n",
      "token: in, frequency: 12, relative frequency: 128.75536480686696\n"
     ]
    }
   ],
   "source": [
    "n_tokens = len(tokens)\n",
    "relative_frequency = [f/n_tokens * 10000 for f in frequency] # corrected (per ten thousand tokens)\n",
    "\n",
    "for i in range(10):\n",
    "    print(f\"token: {words[i]}, frequency: {frequency[i]}, relative frequency: {relative_frequency[i]}\")"
   ]
  },
  {
   "cell_type": "markdown",
   "metadata": {},
   "source": [
    "keywords are words that have higher relative frequencies than in a reference corpus. This reference corpus is the brown corpus from nltk."
   ]
  },
  {
   "cell_type": "code",
   "execution_count": 9,
   "metadata": {},
   "outputs": [
    {
     "name": "stderr",
     "output_type": "stream",
     "text": [
      "[nltk_data] Downloading package brown to /Users/Hunter/nltk_data...\n",
      "[nltk_data]   Package brown is already up-to-date!\n"
     ]
    }
   ],
   "source": [
    "import nltk\n",
    "from nltk.corpus import brown\n",
    "\n",
    "nltk.download('brown')\n",
    "reference_words = brown.words()"
   ]
  },
  {
   "cell_type": "code",
   "execution_count": 10,
   "metadata": {},
   "outputs": [
    {
     "name": "stdout",
     "output_type": "stream",
     "text": [
      "981716\n",
      "40234\n"
     ]
    }
   ],
   "source": [
    "reference_tokens = [word.lower() for word in reference_words if word.isalpha()]\n",
    "reference_frequencies = Counter(reference_tokens)\n",
    "print(len(reference_tokens))\n",
    "print(len(reference_frequencies))"
   ]
  },
  {
   "cell_type": "code",
   "execution_count": 14,
   "metadata": {},
   "outputs": [
    {
     "name": "stdout",
     "output_type": "stream",
     "text": [
      "token: the, frequency: 69971, relative frequency: 712.7417705324146\n",
      "token: of, frequency: 36412, relative frequency: 370.9015641998297\n",
      "token: and, frequency: 28853, relative frequency: 293.9037359073296\n",
      "token: to, frequency: 26158, relative frequency: 266.4518047989439\n",
      "token: a, frequency: 23195, relative frequency: 236.26995994768345\n",
      "token: in, frequency: 21337, relative frequency: 217.3439161631266\n",
      "token: that, frequency: 10594, relative frequency: 107.91308280602537\n",
      "token: is, frequency: 10109, relative frequency: 102.97275383104687\n",
      "token: was, frequency: 9815, relative frequency: 99.97799771013204\n",
      "token: he, frequency: 9548, relative frequency: 97.25827021256657\n"
     ]
    }
   ],
   "source": [
    "n_tokens_ref = len(reference_tokens)\n",
    "absolute_frequencies = [f for t, f in reference_frequencies.most_common()]\n",
    "relative_reference_frequency = [f/n_tokens_ref * 10000 for f in absolute_frequencies] # corrected (per ten thousand tokens)\n",
    "ref_tokens = [token for token, freq in reference_frequencies.most_common()]\n",
    "for i in range(10):\n",
    "    print(f\"token: {ref_tokens[i]}, frequency: {absolute_frequencies[i]}, relative frequency: {relative_reference_frequency[i]}\")"
   ]
  },
  {
   "cell_type": "markdown",
   "metadata": {},
   "source": [
    "to compare the relative frequencies to the reference frequencies, I need to store a list of all the words in the challenge, their relative frequencies in the challenge and their relative frequencies in the reference corpus."
   ]
  },
  {
   "cell_type": "code",
   "execution_count": 21,
   "metadata": {},
   "outputs": [
    {
     "name": "stdout",
     "output_type": "stream",
     "text": [
      "376\n"
     ]
    }
   ],
   "source": [
    "#for token in set(tokens):\n",
    "#    print(token)\n",
    "print(len(set(tokens)))"
   ]
  },
  {
   "cell_type": "code",
   "execution_count": 17,
   "metadata": {},
   "outputs": [
    {
     "name": "stdout",
     "output_type": "stream",
     "text": [
      "token tekanontak not in reference corpus\n",
      "token lidar not in reference corpus\n",
      "token inuit not in reference corpus\n",
      "token archivists not in reference corpus\n",
      "token infrastructures not in reference corpus\n",
      "token disclosing not in reference corpus\n",
      "token québécoise not in reference corpus\n",
      "token penetrant not in reference corpus\n",
      "token société not in reference corpus\n",
      "token mohawk not in reference corpus\n",
      "token affidavit not in reference corpus\n",
      "token spearheaded not in reference corpus\n",
      "token caretakers not in reference corpus\n",
      "token invasive not in reference corpus\n",
      "token keepers not in reference corpus\n",
      "token laser not in reference corpus\n",
      "token protocols not in reference corpus\n",
      "token mcgill not in reference corpus\n",
      "token mkultra not in reference corpus\n",
      "token iroquoian not in reference corpus\n",
      "token archival not in reference corpus\n",
      "token blouin not in reference corpus\n",
      "token homologated not in reference corpus\n",
      "token sqi not in reference corpus\n",
      "token precolonial not in reference corpus\n",
      "('already', 10.729613733905579, 2.7808449694208917)\n",
      "('because', 10.729613733905579, 8.994454608053653)\n",
      "('convey', 10.729613733905579, 0.13242118902004246)\n",
      "('situation', 10.729613733905579, 1.996504080609871)\n",
      "('gathered', 10.729613733905579, 0.3259598498954891)\n",
      "('mind', 10.729613733905579, 3.3105297255010613)\n",
      "('residential', 10.729613733905579, 0.4583810389155316)\n",
      "('psychiatric', 10.729613733905579, 0.050931226546170175)\n",
      "('assistance', 10.729613733905579, 0.886203341903361)\n",
      "('necessity', 10.729613733905579, 0.4074498123693614)\n"
     ]
    }
   ],
   "source": [
    "comparison = list() # a list of tuples (token, relative frequency in the challenge, relative frequency in the reference corpus)\n",
    "for token in set(tokens):\n",
    "    if token in reference_frequencies:\n",
    "        comparison.append((token, relative_frequency[words.index(token)], relative_reference_frequency[ref_tokens.index(token)]))\n",
    "    if token not in reference_frequencies:\n",
    "        print(f\"token {token} not in reference corpus\")\n",
    "        \n",
    "for i in range(10):\n",
    "    print(comparison[i])"
   ]
  },
  {
   "cell_type": "code",
   "execution_count": 16,
   "metadata": {},
   "outputs": [
    {
     "data": {
      "text/plain": [
       "351"
      ]
     },
     "execution_count": 16,
     "metadata": {},
     "output_type": "execute_result"
    }
   ],
   "source": [
    "len(comparison)"
   ]
  },
  {
   "cell_type": "code",
   "execution_count": 22,
   "metadata": {},
   "outputs": [
    {
     "data": {
      "text/html": [
       "<div>\n",
       "<style scoped>\n",
       "    .dataframe tbody tr th:only-of-type {\n",
       "        vertical-align: middle;\n",
       "    }\n",
       "\n",
       "    .dataframe tbody tr th {\n",
       "        vertical-align: top;\n",
       "    }\n",
       "\n",
       "    .dataframe thead th {\n",
       "        text-align: right;\n",
       "    }\n",
       "</style>\n",
       "<table border=\"1\" class=\"dataframe\">\n",
       "  <thead>\n",
       "    <tr style=\"text-align: right;\">\n",
       "      <th></th>\n",
       "      <th>token</th>\n",
       "      <th>relative_frequency_challenge</th>\n",
       "      <th>relative_frequency_reference</th>\n",
       "    </tr>\n",
       "  </thead>\n",
       "  <tbody>\n",
       "    <tr>\n",
       "      <th>0</th>\n",
       "      <td>already</td>\n",
       "      <td>10.729614</td>\n",
       "      <td>2.780845</td>\n",
       "    </tr>\n",
       "    <tr>\n",
       "      <th>1</th>\n",
       "      <td>because</td>\n",
       "      <td>10.729614</td>\n",
       "      <td>8.994455</td>\n",
       "    </tr>\n",
       "    <tr>\n",
       "      <th>2</th>\n",
       "      <td>convey</td>\n",
       "      <td>10.729614</td>\n",
       "      <td>0.132421</td>\n",
       "    </tr>\n",
       "    <tr>\n",
       "      <th>3</th>\n",
       "      <td>situation</td>\n",
       "      <td>10.729614</td>\n",
       "      <td>1.996504</td>\n",
       "    </tr>\n",
       "    <tr>\n",
       "      <th>4</th>\n",
       "      <td>gathered</td>\n",
       "      <td>10.729614</td>\n",
       "      <td>0.325960</td>\n",
       "    </tr>\n",
       "  </tbody>\n",
       "</table>\n",
       "</div>"
      ],
      "text/plain": [
       "       token  relative_frequency_challenge  relative_frequency_reference\n",
       "0    already                     10.729614                      2.780845\n",
       "1    because                     10.729614                      8.994455\n",
       "2     convey                     10.729614                      0.132421\n",
       "3  situation                     10.729614                      1.996504\n",
       "4   gathered                     10.729614                      0.325960"
      ]
     },
     "execution_count": 22,
     "metadata": {},
     "output_type": "execute_result"
    }
   ],
   "source": [
    "import pandas as pd\n",
    "\n",
    "df = pd.DataFrame(comparison, columns=['token', 'relative_frequency_challenge', 'relative_frequency_reference'])\n",
    "df.head()"
   ]
  },
  {
   "cell_type": "code",
   "execution_count": 27,
   "metadata": {},
   "outputs": [
    {
     "data": {
      "text/html": [
       "<div>\n",
       "<style scoped>\n",
       "    .dataframe tbody tr th:only-of-type {\n",
       "        vertical-align: middle;\n",
       "    }\n",
       "\n",
       "    .dataframe tbody tr th {\n",
       "        vertical-align: top;\n",
       "    }\n",
       "\n",
       "    .dataframe thead th {\n",
       "        text-align: right;\n",
       "    }\n",
       "</style>\n",
       "<table border=\"1\" class=\"dataframe\">\n",
       "  <thead>\n",
       "    <tr style=\"text-align: right;\">\n",
       "      <th></th>\n",
       "      <th>token</th>\n",
       "      <th>relative_frequency_challenge</th>\n",
       "      <th>relative_frequency_reference</th>\n",
       "      <th>relative_frequency_difference</th>\n",
       "    </tr>\n",
       "  </thead>\n",
       "  <tbody>\n",
       "    <tr>\n",
       "      <th>259</th>\n",
       "      <td>indigenous</td>\n",
       "      <td>171.673820</td>\n",
       "      <td>0.030559</td>\n",
       "      <td>5617.831187</td>\n",
       "    </tr>\n",
       "    <tr>\n",
       "      <th>281</th>\n",
       "      <td>unmarked</td>\n",
       "      <td>32.188841</td>\n",
       "      <td>0.010186</td>\n",
       "      <td>3160.030043</td>\n",
       "    </tr>\n",
       "    <tr>\n",
       "      <th>12</th>\n",
       "      <td>quebec</td>\n",
       "      <td>42.918455</td>\n",
       "      <td>0.020372</td>\n",
       "      <td>2106.686695</td>\n",
       "    </tr>\n",
       "    <tr>\n",
       "      <th>104</th>\n",
       "      <td>reconciliation</td>\n",
       "      <td>21.459227</td>\n",
       "      <td>0.010186</td>\n",
       "      <td>2106.686695</td>\n",
       "    </tr>\n",
       "    <tr>\n",
       "      <th>227</th>\n",
       "      <td>philippe</td>\n",
       "      <td>10.729614</td>\n",
       "      <td>0.010186</td>\n",
       "      <td>1053.343348</td>\n",
       "    </tr>\n",
       "    <tr>\n",
       "      <th>24</th>\n",
       "      <td>closure</td>\n",
       "      <td>10.729614</td>\n",
       "      <td>0.010186</td>\n",
       "      <td>1053.343348</td>\n",
       "    </tr>\n",
       "    <tr>\n",
       "      <th>224</th>\n",
       "      <td>survivor</td>\n",
       "      <td>10.729614</td>\n",
       "      <td>0.010186</td>\n",
       "      <td>1053.343348</td>\n",
       "    </tr>\n",
       "    <tr>\n",
       "      <th>301</th>\n",
       "      <td>amicable</td>\n",
       "      <td>10.729614</td>\n",
       "      <td>0.010186</td>\n",
       "      <td>1053.343348</td>\n",
       "    </tr>\n",
       "    <tr>\n",
       "      <th>63</th>\n",
       "      <td>archaeologists</td>\n",
       "      <td>10.729614</td>\n",
       "      <td>0.010186</td>\n",
       "      <td>1053.343348</td>\n",
       "    </tr>\n",
       "    <tr>\n",
       "      <th>309</th>\n",
       "      <td>disciplinary</td>\n",
       "      <td>10.729614</td>\n",
       "      <td>0.010186</td>\n",
       "      <td>1053.343348</td>\n",
       "    </tr>\n",
       "    <tr>\n",
       "      <th>97</th>\n",
       "      <td>funding</td>\n",
       "      <td>10.729614</td>\n",
       "      <td>0.010186</td>\n",
       "      <td>1053.343348</td>\n",
       "    </tr>\n",
       "    <tr>\n",
       "      <th>13</th>\n",
       "      <td>extermination</td>\n",
       "      <td>10.729614</td>\n",
       "      <td>0.010186</td>\n",
       "      <td>1053.343348</td>\n",
       "    </tr>\n",
       "    <tr>\n",
       "      <th>208</th>\n",
       "      <td>excavation</td>\n",
       "      <td>32.188841</td>\n",
       "      <td>0.030559</td>\n",
       "      <td>1053.343348</td>\n",
       "    </tr>\n",
       "    <tr>\n",
       "      <th>10</th>\n",
       "      <td>injunction</td>\n",
       "      <td>32.188841</td>\n",
       "      <td>0.030559</td>\n",
       "      <td>1053.343348</td>\n",
       "    </tr>\n",
       "    <tr>\n",
       "      <th>342</th>\n",
       "      <td>plaintiffs</td>\n",
       "      <td>32.188841</td>\n",
       "      <td>0.030559</td>\n",
       "      <td>1053.343348</td>\n",
       "    </tr>\n",
       "    <tr>\n",
       "      <th>142</th>\n",
       "      <td>irreparable</td>\n",
       "      <td>21.459227</td>\n",
       "      <td>0.020372</td>\n",
       "      <td>1053.343348</td>\n",
       "    </tr>\n",
       "    <tr>\n",
       "      <th>96</th>\n",
       "      <td>iq</td>\n",
       "      <td>10.729614</td>\n",
       "      <td>0.010186</td>\n",
       "      <td>1053.343348</td>\n",
       "    </tr>\n",
       "    <tr>\n",
       "      <th>64</th>\n",
       "      <td>promoters</td>\n",
       "      <td>32.188841</td>\n",
       "      <td>0.040745</td>\n",
       "      <td>790.007511</td>\n",
       "    </tr>\n",
       "    <tr>\n",
       "      <th>340</th>\n",
       "      <td>victoria</td>\n",
       "      <td>53.648069</td>\n",
       "      <td>0.081490</td>\n",
       "      <td>658.339592</td>\n",
       "    </tr>\n",
       "    <tr>\n",
       "      <th>185</th>\n",
       "      <td>lana</td>\n",
       "      <td>10.729614</td>\n",
       "      <td>0.020372</td>\n",
       "      <td>526.671674</td>\n",
       "    </tr>\n",
       "    <tr>\n",
       "      <th>307</th>\n",
       "      <td>enforceable</td>\n",
       "      <td>10.729614</td>\n",
       "      <td>0.020372</td>\n",
       "      <td>526.671674</td>\n",
       "    </tr>\n",
       "    <tr>\n",
       "      <th>275</th>\n",
       "      <td>custody</td>\n",
       "      <td>10.729614</td>\n",
       "      <td>0.020372</td>\n",
       "      <td>526.671674</td>\n",
       "    </tr>\n",
       "    <tr>\n",
       "      <th>245</th>\n",
       "      <td>archaeological</td>\n",
       "      <td>42.918455</td>\n",
       "      <td>0.081490</td>\n",
       "      <td>526.671674</td>\n",
       "    </tr>\n",
       "    <tr>\n",
       "      <th>249</th>\n",
       "      <td>unconstitutional</td>\n",
       "      <td>10.729614</td>\n",
       "      <td>0.020372</td>\n",
       "      <td>526.671674</td>\n",
       "    </tr>\n",
       "    <tr>\n",
       "      <th>121</th>\n",
       "      <td>anthropologist</td>\n",
       "      <td>10.729614</td>\n",
       "      <td>0.020372</td>\n",
       "      <td>526.671674</td>\n",
       "    </tr>\n",
       "    <tr>\n",
       "      <th>105</th>\n",
       "      <td>redevelopment</td>\n",
       "      <td>21.459227</td>\n",
       "      <td>0.050931</td>\n",
       "      <td>421.337339</td>\n",
       "    </tr>\n",
       "    <tr>\n",
       "      <th>328</th>\n",
       "      <td>protecting</td>\n",
       "      <td>10.729614</td>\n",
       "      <td>0.030559</td>\n",
       "      <td>351.114449</td>\n",
       "    </tr>\n",
       "    <tr>\n",
       "      <th>176</th>\n",
       "      <td>slated</td>\n",
       "      <td>10.729614</td>\n",
       "      <td>0.030559</td>\n",
       "      <td>351.114449</td>\n",
       "    </tr>\n",
       "    <tr>\n",
       "      <th>106</th>\n",
       "      <td>shovels</td>\n",
       "      <td>10.729614</td>\n",
       "      <td>0.030559</td>\n",
       "      <td>351.114449</td>\n",
       "    </tr>\n",
       "    <tr>\n",
       "      <th>296</th>\n",
       "      <td>mothers</td>\n",
       "      <td>85.836910</td>\n",
       "      <td>0.254656</td>\n",
       "      <td>337.069871</td>\n",
       "    </tr>\n",
       "  </tbody>\n",
       "</table>\n",
       "</div>"
      ],
      "text/plain": [
       "                token  relative_frequency_challenge  \\\n",
       "259        indigenous                    171.673820   \n",
       "281          unmarked                     32.188841   \n",
       "12             quebec                     42.918455   \n",
       "104    reconciliation                     21.459227   \n",
       "227          philippe                     10.729614   \n",
       "24            closure                     10.729614   \n",
       "224          survivor                     10.729614   \n",
       "301          amicable                     10.729614   \n",
       "63     archaeologists                     10.729614   \n",
       "309      disciplinary                     10.729614   \n",
       "97            funding                     10.729614   \n",
       "13      extermination                     10.729614   \n",
       "208        excavation                     32.188841   \n",
       "10         injunction                     32.188841   \n",
       "342        plaintiffs                     32.188841   \n",
       "142       irreparable                     21.459227   \n",
       "96                 iq                     10.729614   \n",
       "64          promoters                     32.188841   \n",
       "340          victoria                     53.648069   \n",
       "185              lana                     10.729614   \n",
       "307       enforceable                     10.729614   \n",
       "275           custody                     10.729614   \n",
       "245    archaeological                     42.918455   \n",
       "249  unconstitutional                     10.729614   \n",
       "121    anthropologist                     10.729614   \n",
       "105     redevelopment                     21.459227   \n",
       "328        protecting                     10.729614   \n",
       "176            slated                     10.729614   \n",
       "106           shovels                     10.729614   \n",
       "296           mothers                     85.836910   \n",
       "\n",
       "     relative_frequency_reference  relative_frequency_difference  \n",
       "259                      0.030559                    5617.831187  \n",
       "281                      0.010186                    3160.030043  \n",
       "12                       0.020372                    2106.686695  \n",
       "104                      0.010186                    2106.686695  \n",
       "227                      0.010186                    1053.343348  \n",
       "24                       0.010186                    1053.343348  \n",
       "224                      0.010186                    1053.343348  \n",
       "301                      0.010186                    1053.343348  \n",
       "63                       0.010186                    1053.343348  \n",
       "309                      0.010186                    1053.343348  \n",
       "97                       0.010186                    1053.343348  \n",
       "13                       0.010186                    1053.343348  \n",
       "208                      0.030559                    1053.343348  \n",
       "10                       0.030559                    1053.343348  \n",
       "342                      0.030559                    1053.343348  \n",
       "142                      0.020372                    1053.343348  \n",
       "96                       0.010186                    1053.343348  \n",
       "64                       0.040745                     790.007511  \n",
       "340                      0.081490                     658.339592  \n",
       "185                      0.020372                     526.671674  \n",
       "307                      0.020372                     526.671674  \n",
       "275                      0.020372                     526.671674  \n",
       "245                      0.081490                     526.671674  \n",
       "249                      0.020372                     526.671674  \n",
       "121                      0.020372                     526.671674  \n",
       "105                      0.050931                     421.337339  \n",
       "328                      0.030559                     351.114449  \n",
       "176                      0.030559                     351.114449  \n",
       "106                      0.030559                     351.114449  \n",
       "296                      0.254656                     337.069871  "
      ]
     },
     "execution_count": 27,
     "metadata": {},
     "output_type": "execute_result"
    }
   ],
   "source": [
    "relative_freq = df.assign(relative_frequency_difference = lambda x: x.relative_frequency_challenge / x.relative_frequency_reference).sort_values(by='relative_frequency_difference', ascending=False)\n",
    "relative_freq.head(30)"
   ]
  },
  {
   "cell_type": "markdown",
   "metadata": {},
   "source": [
    "# colocations\n",
    "\n",
    "a colocation is a series of words that co-occur more often than would be expected by chance."
   ]
  },
  {
   "cell_type": "code",
   "execution_count": 37,
   "metadata": {},
   "outputs": [
    {
     "name": "stdout",
     "output_type": "stream",
     "text": [
      "unigram: on, probability: 0.01072961373390558\n",
      "bigram : ('on', 'october'), probability: 0.00322234156820623\n",
      "unigram: october, probability: 0.003218884120171674\n",
      "bigram : ('october', 'the'), probability: 0.0021482277121374865\n",
      "unigram: the, probability: 0.11158798283261803\n",
      "bigram : ('the', 'mohawk'), probability: 0.01288936627282492\n",
      "unigram: mohawk, probability: 0.013948497854077254\n",
      "bigram : ('mohawk', 'mothers'), probability: 0.008592910848549946\n",
      "unigram: mothers, probability: 0.008583690987124463\n",
      "bigram : ('mothers', 'won'), probability: 0.0010741138560687433\n",
      "unigram: won, probability: 0.001072961373390558\n",
      "bigram : ('won', 'an'), probability: 0.0010741138560687433\n",
      "unigram: an, probability: 0.006437768240343348\n",
      "bigram : ('an', 'important'), probability: 0.0010741138560687433\n",
      "unigram: important, probability: 0.001072961373390558\n",
      "bigram : ('important', 'the'), probability: 0.0010741138560687433\n",
      "unigram: injunction, probability: 0.003218884120171674\n",
      "bigram : ('the', 'injunction'), probability: 0.00322234156820623\n",
      "unigram: obtained, probability: 0.002145922746781116\n",
      "bigram : ('injunction', 'obtained'), probability: 0.0010741138560687433\n"
     ]
    }
   ],
   "source": [
    "def prob_ngrams(tokens, n):\n",
    "    ngrams = list()\n",
    "    for i in range(len(tokens)-n+1):\n",
    "        ngrams.append(tuple(tokens[i:i+n]))\n",
    "    \n",
    "    ngram_counts = Counter(ngrams)\n",
    "    ngram_probabilities = dict()\n",
    "    for ngram, count in ngram_counts.items():\n",
    "        if n == 1:\n",
    "            ngram_probabilities[ngram[0]] = count / len(ngrams)\n",
    "        else:\n",
    "            ngram_probabilities[ngram] = count / len(ngrams)\n",
    "        \n",
    "    return ngram_probabilities\n",
    "\n",
    "unigram_probabilities = prob_ngrams(tokens, 1)\n",
    "bigram_probabilities = prob_ngrams(tokens, 2)\n",
    "\n",
    "for i in range(10):\n",
    "    print(f\"unigram: {list(unigram_probabilities.keys())[i]}, probability: {list(unigram_probabilities.values())[i]}\")\n",
    "    print(f\"bigram : {list(bigram_probabilities.keys())[i]}, probability: {list(bigram_probabilities.values())[i]}\")"
   ]
  },
  {
   "cell_type": "code",
   "execution_count": 62,
   "metadata": {},
   "outputs": [
    {
     "data": {
      "text/plain": [
       "2.1940154529527427"
      ]
     },
     "execution_count": 62,
     "metadata": {},
     "output_type": "execute_result"
    }
   ],
   "source": [
    "def mutual_information(bigram):\n",
    "    word_one = bigram[0]\n",
    "    word_two = bigram[1]\n",
    "    p_one = unigram_probabilities[word_one]\n",
    "    p_two = unigram_probabilities[word_two]\n",
    "    p_bigram = bigram_probabilities[bigram]\n",
    "    \n",
    "    # Check if any of the probabilities are 0. If they are, return 0.\n",
    "    if p_one == 0 or p_two == 0 or p_bigram == 0:\n",
    "        return 0\n",
    "    \n",
    "    return math.log(p_bigram / (p_one * p_two))\n",
    "\n",
    "mutual_information(('important','the'))"
   ]
  },
  {
   "cell_type": "code",
   "execution_count": 58,
   "metadata": {},
   "outputs": [],
   "source": [
    "mi = dict() # keys are bigrams and values are mutual information scores\n",
    "for bigram in bigram_probabilities.keys():\n",
    "    mi[bigram] = mutual_information(bigram)\n",
    "\n",
    "mi = [(bigram, mi_score) for bigram, mi_score in mi.items()]\n",
    "strings = list()\n",
    "mi_scores = list()\n",
    "for bigram in mi:\n",
    "    string = bigram[0][0] + ' ' + bigram[0][1]\n",
    "    strings.append(string)\n",
    "    mi_score = bigram[1]\n",
    "    mi_scores.append(mi_score)"
   ]
  },
  {
   "cell_type": "code",
   "execution_count": 72,
   "metadata": {},
   "outputs": [
    {
     "data": {
      "image/png": "[encoded data removed]",
      "text/plain": [
       "<Figure size 640x480 with 1 Axes>"
      ]
     },
     "metadata": {},
     "output_type": "display_data"
    }
   ],
   "source": [
    "# cSpell:words bigram\n",
    "mi_df = pd.DataFrame({'bigram': strings, 'mutual_information': mi_scores})\n",
    "filtered_df = mi_df[mi_df['mutual_information'] != 6.838406]\n",
    "filtered_df.sort_values(by='mutual_information', ascending=False).head(100)\n",
    "\n",
    "plt.hist(mi_scores, bins=30, log=True)\n",
    "plt.show()\n"
   ]
  }
 ],
 "metadata": {
  "kernelspec": {
   "display_name": ".venv",
   "language": "python",
   "name": "python3"
  },
  "language_info": {
   "codemirror_mode": {
    "name": "ipython",
    "version": 3
   },
   "file_extension": ".py",
   "mimetype": "text/x-python",
   "name": "python",
   "nbconvert_exporter": "python",
   "pygments_lexer": "ipython3",
   "version": "3.12.0"
  }
 },
 "nbformat": 4,
 "nbformat_minor": 2
}
